{
  "cells": [
    {
      "cell_type": "code",
      "execution_count": null,
      "metadata": {
        "id": "eQXIrVdzNl1_"
      },
      "outputs": [],
      "source": [
        "import pandas as pd\n",
        "import numpy as np\n",
        "import matplotlib.pyplot as plt\n",
        "import seaborn as sns\n",
        "from sklearn.preprocessing import StandardScaler\n",
        "from sklearn.model_selection import train_test_split\n",
        "from sklearn.linear_model import LinearRegression\n",
        "from sklearn.metrics import r2_score\n"
      ]
    },
    {
      "cell_type": "code",
      "execution_count": null,
      "metadata": {
        "id": "6svtN2XDOSzj"
      },
      "outputs": [],
      "source": [
        "customers = pd.read_csv('USA_Housing.csv')\n",
        "customers.head()"
      ]
    },
    {
      "cell_type": "code",
      "execution_count": null,
      "metadata": {
        "colab": {
          "background_save": true,
          "base_uri": "https://localhost:8080/",
          "height": 165
        },
        "id": "DRTiKNCmOTJR",
        "outputId": "92ed9508-132a-460f-a4d3-3652bad5e526"
      },
      "outputs": [],
      "source": [
        "customers.describe()"
      ]
    },
    {
      "cell_type": "code",
      "execution_count": null,
      "metadata": {
        "colab": {
          "base_uri": "https://localhost:8080/",
          "height": 165
        },
        "id": "Jb_G2KGLObUQ",
        "outputId": "caedb5db-ac32-4776-fc82-0d439a8d2e40"
      },
      "outputs": [],
      "source": [
        "customers.info()"
      ]
    },
    {
      "cell_type": "code",
      "execution_count": null,
      "metadata": {
        "colab": {
          "background_save": true,
          "base_uri": "https://localhost:8080/",
          "height": 165
        },
        "id": "ujZf3IftOdMX",
        "outputId": "33b45a52-f356-474c-df4a-d7a642cfc2b7"
      },
      "outputs": [],
      "source": [
        "sns.pairplot(customers)"
      ]
    },
    {
      "cell_type": "code",
      "execution_count": null,
      "metadata": {
        "colab": {
          "background_save": true
        },
        "id": "_bszCk2bOfs4"
      },
      "outputs": [],
      "source": [
        "scaler = StandardScaler()\n",
        "\n",
        "X=customers.drop(['Price','Address'],axis=1)\n",
        "S=customers.drop(['Price','Address'],axis=1)\n",
        "y=customers['Price']\n",
        "S['old_price']=y\n",
        "\n",
        "\n",
        "cols = X.columns\n",
        "\n",
        "print(S);\n",
        "X = scaler.fit_transform(X)"
      ]
    },
    {
      "cell_type": "code",
      "execution_count": null,
      "metadata": {
        "colab": {
          "background_save": true
        },
        "id": "c2LkJ_eKOhVi"
      },
      "outputs": [],
      "source": [
        "X_train, X_test, y_train, y_test = train_test_split(X, y, test_size=0.3, random_state=101)"
      ]
    },
    {
      "cell_type": "code",
      "execution_count": null,
      "metadata": {
        "colab": {
          "background_save": true,
          "base_uri": "https://localhost:8080/",
          "height": 235
        },
        "id": "lj6uKXcKOi8I",
        "outputId": "eb7328e7-6d16-4dbb-909b-6c78d72bec90"
      },
      "outputs": [],
      "source": [
        "lr = LinearRegression()\n",
        "lr.fit(X_train,y_train)\n",
        "# pred = lr.predict(X_test)\n",
        "# r2_score(y_test,pred)\n",
        "\n",
        "\n",
        "pred = lr.predict(X)\n",
        "\n",
        "S['new_price']=pred\n",
        "\n",
        "\n",
        "df=pd.DataFrame(S);\n",
        "df.to_csv('output.csv')\n",
        "r2_score(y,pred)"
      ]
    },
    {
      "cell_type": "code",
      "execution_count": null,
      "metadata": {
        "colab": {
          "background_save": true,
          "base_uri": "https://localhost:8080/",
          "height": 165
        },
        "id": "tvnq81h0OkRc",
        "outputId": "40852b08-1c74-45c2-ae05-0c90ec213224"
      },
      "outputs": [],
      "source": [
        "# sns.scatterplot(x=y_test, y=pred) \n",
        "sns.scatterplot(x=y, y=pred) \n"
      ]
    },
    {
      "cell_type": "code",
      "execution_count": null,
      "metadata": {
        "colab": {
          "background_save": true,
          "base_uri": "https://localhost:8080/",
          "height": 165
        },
        "id": "7iSU7Xk1OnEB",
        "outputId": "072f5b5b-2446-406c-adf7-baa5d97d57a8"
      },
      "outputs": [],
      "source": [
        "sns.histplot((y_test,pred),bins=50,kde=True)"
      ]
    },
    {
      "cell_type": "code",
      "execution_count": null,
      "metadata": {
        "colab": {
          "background_save": true,
          "base_uri": "https://localhost:8080/",
          "height": 183
        },
        "id": "vneXuk2TOq7F",
        "outputId": "5be1a098-fb9a-40c9-bcef-28bdbb30aa54"
      },
      "outputs": [],
      "source": [
        "cdf=pd.DataFrame(lr.coef_, cols, ['coefficients']).sort_values('coefficients',ascending=False)\n",
        "cdf"
      ]
    },
    {
      "cell_type": "code",
      "execution_count": null,
      "metadata": {
        "id": "4WBJHd18Otnn"
      },
      "outputs": [],
      "source": []
    }
  ],
  "metadata": {
    "colab": {
      "provenance": []
    },
    "kernelspec": {
      "display_name": "Python 3",
      "name": "python3"
    },
    "language_info": {
      "codemirror_mode": {
        "name": "ipython",
        "version": 3
      },
      "file_extension": ".py",
      "mimetype": "text/x-python",
      "name": "python",
      "nbconvert_exporter": "python",
      "pygments_lexer": "ipython3",
      "version": "3.11.2"
    }
  },
  "nbformat": 4,
  "nbformat_minor": 0
}
